{
 "cells": [
  {
   "cell_type": "code",
   "execution_count": 5,
   "id": "a9394a1f",
   "metadata": {},
   "outputs": [
    {
     "name": "stdout",
     "output_type": "stream",
     "text": [
      "<class 'set'>\n",
      "{1, 2, 3, 5, 7}\n"
     ]
    }
   ],
   "source": [
    "s1 = {1, 3, 5 ,7, 2}\n",
    "print(type(s1))\n",
    "print(s1)"
   ]
  },
  {
   "cell_type": "code",
   "execution_count": 3,
   "id": "151df732",
   "metadata": {},
   "outputs": [
    {
     "ename": "TypeError",
     "evalue": "'set' object is not subscriptable",
     "output_type": "error",
     "traceback": [
      "\u001b[1;31m---------------------------------------------------------------------------\u001b[0m",
      "\u001b[1;31mTypeError\u001b[0m                                 Traceback (most recent call last)",
      "Cell \u001b[1;32mIn[3], line 1\u001b[0m\n\u001b[1;32m----> 1\u001b[0m \u001b[38;5;28mprint\u001b[39m(\u001b[43ms1\u001b[49m\u001b[43m[\u001b[49m\u001b[38;5;241;43m0\u001b[39;49m\u001b[43m]\u001b[49m)\n",
      "\u001b[1;31mTypeError\u001b[0m: 'set' object is not subscriptable"
     ]
    }
   ],
   "source": [
    "print(s1[0]) #doesnot support slicing, indexing, duplication."
   ]
  },
  {
   "cell_type": "code",
   "execution_count": 4,
   "id": "8c5247a5",
   "metadata": {},
   "outputs": [
    {
     "name": "stdout",
     "output_type": "stream",
     "text": [
      "{3, 5, 7, 9, 11}\n"
     ]
    }
   ],
   "source": [
    "s2 = {3, 5, 7, 9, 11}\n",
    "print(s2)"
   ]
  },
  {
   "cell_type": "code",
   "execution_count": 6,
   "id": "bf6a8873",
   "metadata": {},
   "outputs": [
    {
     "name": "stdout",
     "output_type": "stream",
     "text": [
      "{1, 2, 3, 5, 7} and {3, 5, 7, 9, 11}\n"
     ]
    }
   ],
   "source": [
    "s1 = {1, 3, 5 ,7, 2}\n",
    "s2 = {3, 5, 7, 9, 11}\n",
    "print(f'{s1} and {s2}')"
   ]
  },
  {
   "cell_type": "code",
   "execution_count": 8,
   "id": "d7b13360",
   "metadata": {},
   "outputs": [
    {
     "data": {
      "text/plain": [
       "{3, 5, 7}"
      ]
     },
     "execution_count": 8,
     "metadata": {},
     "output_type": "execute_result"
    }
   ],
   "source": [
    "s1.intersection(s2)"
   ]
  },
  {
   "cell_type": "code",
   "execution_count": 15,
   "id": "bd95ecb3",
   "metadata": {},
   "outputs": [
    {
     "data": {
      "text/plain": [
       "{1, 2, 3, 5, 7, 9, 11, 12, 13, 14}"
      ]
     },
     "execution_count": 15,
     "metadata": {},
     "output_type": "execute_result"
    }
   ],
   "source": [
    "s1.union({12, 13, 14})"
   ]
  },
  {
   "cell_type": "code",
   "execution_count": 14,
   "id": "62aa07ac",
   "metadata": {},
   "outputs": [
    {
     "data": {
      "text/plain": [
       "{1, 2, 3, 5, 7, 9, 11}"
      ]
     },
     "execution_count": 14,
     "metadata": {},
     "output_type": "execute_result"
    }
   ],
   "source": [
    "#s1.update(s2)\n",
    "#s1"
   ]
  },
  {
   "cell_type": "markdown",
   "id": "926c8b38",
   "metadata": {},
   "source": [
    "s1.intersection(s2)"
   ]
  },
  {
   "cell_type": "code",
   "execution_count": 16,
   "id": "40fcd37b",
   "metadata": {},
   "outputs": [
    {
     "name": "stdout",
     "output_type": "stream",
     "text": [
      "{1, 2, 3, 5, 7} and {3, 5, 7, 9, 11}\n"
     ]
    }
   ],
   "source": [
    "s1 = {1, 3, 5 ,7, 2}\n",
    "s2 = {3, 5, 7, 9, 11}\n",
    "print(f'{s1} and {s2}')"
   ]
  },
  {
   "cell_type": "code",
   "execution_count": 20,
   "id": "ff2a8cb7",
   "metadata": {},
   "outputs": [
    {
     "data": {
      "text/plain": [
       "{1, 2, 3, 5, 7, 12}"
      ]
     },
     "execution_count": 20,
     "metadata": {},
     "output_type": "execute_result"
    }
   ],
   "source": [
    "s1.add(12)\n",
    "s1"
   ]
  },
  {
   "cell_type": "code",
   "execution_count": 21,
   "id": "029ef485",
   "metadata": {},
   "outputs": [
    {
     "data": {
      "text/plain": [
       "{1, 2, 12}"
      ]
     },
     "execution_count": 21,
     "metadata": {},
     "output_type": "execute_result"
    }
   ],
   "source": [
    "s1-s2"
   ]
  },
  {
   "cell_type": "code",
   "execution_count": 22,
   "id": "6316ee48",
   "metadata": {},
   "outputs": [
    {
     "data": {
      "text/plain": [
       "{9, 11}"
      ]
     },
     "execution_count": 22,
     "metadata": {},
     "output_type": "execute_result"
    }
   ],
   "source": [
    "s2-s1#differance (s1+s2 doesnot work)"
   ]
  },
  {
   "cell_type": "code",
   "execution_count": 28,
   "id": "28309b4e",
   "metadata": {},
   "outputs": [
    {
     "name": "stdout",
     "output_type": "stream",
     "text": [
      "{False, 1, 2, 'ram'}\n",
      "<class 'set'>\n"
     ]
    }
   ],
   "source": [
    "s1 = {1, 2, 'ram', False}\n",
    "print(s1)\n",
    "print(type(s1))"
   ]
  },
  {
   "cell_type": "code",
   "execution_count": 29,
   "id": "f5c946b9",
   "metadata": {},
   "outputs": [
    {
     "name": "stdout",
     "output_type": "stream",
     "text": [
      "((1, 2, True), 3, 4, 5)\n"
     ]
    }
   ],
   "source": [
    "s1 = ((1, 2, True), 3, 4, 5)#supports tupple and doesnot suppport list\n",
    "print(s1)"
   ]
  },
  {
   "cell_type": "code",
   "execution_count": 31,
   "id": "790c7c8d",
   "metadata": {},
   "outputs": [
    {
     "ename": "TypeError",
     "evalue": "unhashable type: 'list'",
     "output_type": "error",
     "traceback": [
      "\u001b[1;31m---------------------------------------------------------------------------\u001b[0m",
      "\u001b[1;31mTypeError\u001b[0m                                 Traceback (most recent call last)",
      "Cell \u001b[1;32mIn[31], line 1\u001b[0m\n\u001b[1;32m----> 1\u001b[0m s1 \u001b[38;5;241m=\u001b[39m {[\u001b[38;5;241m1\u001b[39m, \u001b[38;5;241m2\u001b[39m, \u001b[38;5;28;01mTrue\u001b[39;00m], \u001b[38;5;241m3\u001b[39m, \u001b[38;5;241m4\u001b[39m, \u001b[38;5;241m5\u001b[39m}\u001b[38;5;66;03m# doesnot suppport list\u001b[39;00m\n\u001b[0;32m      2\u001b[0m \u001b[38;5;28mprint\u001b[39m(s1)\n",
      "\u001b[1;31mTypeError\u001b[0m: unhashable type: 'list'"
     ]
    }
   ],
   "source": [
    "s1 = {[1, 2, True], 3, 4, 5}# doesnot suppport list\n",
    "print(s1)"
   ]
  },
  {
   "cell_type": "code",
   "execution_count": 36,
   "id": "708a9f5c",
   "metadata": {},
   "outputs": [
    {
     "name": "stdout",
     "output_type": "stream",
     "text": [
      "10 9 8 7 6 5 4 3 2 1 "
     ]
    }
   ],
   "source": [
    "def func1(n):\n",
    "    if n > 0:\n",
    "        print(n, end=' ')\n",
    "        func1(n-1) #recursion  called recursive function\n",
    "    \n",
    "    \n",
    "func1(10)"
   ]
  },
  {
   "cell_type": "code",
   "execution_count": null,
   "id": "37f50e66",
   "metadata": {},
   "outputs": [],
   "source": []
  }
 ],
 "metadata": {
  "kernelspec": {
   "display_name": "Python 3 (ipykernel)",
   "language": "python",
   "name": "python3"
  },
  "language_info": {
   "codemirror_mode": {
    "name": "ipython",
    "version": 3
   },
   "file_extension": ".py",
   "mimetype": "text/x-python",
   "name": "python",
   "nbconvert_exporter": "python",
   "pygments_lexer": "ipython3",
   "version": "3.10.9"
  }
 },
 "nbformat": 4,
 "nbformat_minor": 5
}
