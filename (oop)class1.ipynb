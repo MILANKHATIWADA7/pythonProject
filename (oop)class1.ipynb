{
 "cells": [
  {
   "cell_type": "code",
   "execution_count": 76,
   "id": "f9bce34d",
   "metadata": {},
   "outputs": [],
   "source": [
    "class Test:\n",
    "    def func1(self):\n",
    "        print(\"This is inside func1\")\n",
    "        print(f\"{self.name} {self.age} {self.address}\")\n",
    "    def func2(self,name,age,address):\n",
    "        print(f\"{name} {age} {address}\")\n",
    "#The above is a method"
   ]
  },
  {
   "cell_type": "code",
   "execution_count": 79,
   "id": "1b3b7343",
   "metadata": {},
   "outputs": [
    {
     "name": "stdout",
     "output_type": "stream",
     "text": [
      "This is inside func1\n",
      "Milan 22 kapan\n"
     ]
    }
   ],
   "source": [
    "t1 = Test()\n",
    "t1.name = 'Milan'\n",
    "t1.age = 22\n",
    "t1.address = 'kapan'\n",
    "t1.func1()"
   ]
  },
  {
   "cell_type": "code",
   "execution_count": 86,
   "id": "50d0d325",
   "metadata": {},
   "outputs": [
    {
     "name": "stdout",
     "output_type": "stream",
     "text": [
      "Enter a name avishek\n",
      "Enter age 22\n",
      "Enter your address kapan\n",
      "avishek 22 kapan\n",
      "shyam 33 japan\n",
      "Enter a name milan\n",
      "Enter age 22\n",
      "Enter your address kapan\n",
      "milan 22 kapan\n",
      "shyam 33 japan\n",
      "Enter a name nitisha\n",
      "Enter age 22\n",
      "Enter your address gausala\n",
      "nitisha 22 gausala\n",
      "shyam 33 japan\n"
     ]
    }
   ],
   "source": [
    "t2 = Test()\n",
    "for i in range(3):\n",
    "    name = input(\"Enter a name \")\n",
    "    age = int(input(\"Enter age \"))\n",
    "    address = input(\"Enter your address \")\n",
    "    t2.func2(name ,age, address)\n",
    "    t1.func2('shyam', 33, 'japan')"
   ]
  },
  {
   "cell_type": "code",
   "execution_count": 102,
   "id": "c0a4e401",
   "metadata": {},
   "outputs": [],
   "source": [
    "class Addition:\n",
    "    def sum(self,a:int,b:int):\n",
    "        c = a+b\n",
    "        print(c)"
   ]
  },
  {
   "cell_type": "code",
   "execution_count": 103,
   "id": "288a51fb",
   "metadata": {},
   "outputs": [
    {
     "name": "stdout",
     "output_type": "stream",
     "text": [
      "Enter a n1 22\n",
      "Enter a n2 22\n",
      "44\n"
     ]
    }
   ],
   "source": [
    "a1 = Addition()\n",
    "a = int(input(\"Enter a n1 \"))\n",
    "b = int(input(\"Enter a n2 \"))\n",
    "a1.sum(a,b)"
   ]
  },
  {
   "cell_type": "code",
   "execution_count": null,
   "id": "5059671b",
   "metadata": {},
   "outputs": [],
   "source": []
  }
 ],
 "metadata": {
  "kernelspec": {
   "display_name": "Python 3 (ipykernel)",
   "language": "python",
   "name": "python3"
  },
  "language_info": {
   "codemirror_mode": {
    "name": "ipython",
    "version": 3
   },
   "file_extension": ".py",
   "mimetype": "text/x-python",
   "name": "python",
   "nbconvert_exporter": "python",
   "pygments_lexer": "ipython3",
   "version": "3.10.9"
  }
 },
 "nbformat": 4,
 "nbformat_minor": 5
}
