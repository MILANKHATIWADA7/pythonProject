{
 "cells": [
  {
   "cell_type": "code",
   "execution_count": 1,
   "id": "1ed3697f",
   "metadata": {},
   "outputs": [
    {
     "name": "stdout",
     "output_type": "stream",
     "text": [
      "{'name': 'ram', 'age': 22, 'mark': 77}\n"
     ]
    }
   ],
   "source": [
    "student={\n",
    "    'name':'ram',\n",
    "    'age':22,\n",
    "    'mark':77\n",
    "}\n",
    "print(student)"
   ]
  },
  {
   "cell_type": "code",
   "execution_count": 3,
   "id": "7928cdd6",
   "metadata": {},
   "outputs": [
    {
     "name": "stdout",
     "output_type": "stream",
     "text": [
      "22,33\n"
     ]
    }
   ],
   "source": [
    "def fun1(a,b):\n",
    "    print(f\"{a},{b}\")\n",
    "\n",
    "fun1(22,33)"
   ]
  },
  {
   "cell_type": "code",
   "execution_count": 4,
   "id": "fa6cda44",
   "metadata": {},
   "outputs": [
    {
     "name": "stdout",
     "output_type": "stream",
     "text": [
      "<class 'tuple'>\n",
      "Sum is (32, 53, 85)\n",
      "Sum of 32 and 53 is 85\n"
     ]
    }
   ],
   "source": [
    "def fun1(a,b):\n",
    "    a+= 10\n",
    "    b+= 20\n",
    "    c = a + b\n",
    "    return a,b,c\n",
    "\n",
    "res = fun1(22,33)\n",
    "n1,n2,n3 = res\n",
    "print(type(res))\n",
    "print(f\"Sum is {res}\")\n",
    "print(f\"Sum of {n1} and {n2} is {n3}\")"
   ]
  },
  {
   "cell_type": "code",
   "execution_count": 5,
   "id": "a5e3e7f7",
   "metadata": {},
   "outputs": [
    {
     "name": "stdout",
     "output_type": "stream",
     "text": [
      "22 33\n"
     ]
    }
   ],
   "source": [
    "def func1(a,b, c =None):\n",
    "    print(a,b)\n",
    "\n",
    "func1(22, 33)"
   ]
  },
  {
   "cell_type": "code",
   "execution_count": 6,
   "id": "6ce8f193",
   "metadata": {},
   "outputs": [],
   "source": [
    "# func1(22, 33, 44)\n",
    "def func1(*args):\n",
    "    print(args)\n",
    "    for i in args:\n",
    "        print(i)"
   ]
  },
  {
   "cell_type": "code",
   "execution_count": 7,
   "id": "0a86702f",
   "metadata": {},
   "outputs": [
    {
     "name": "stdout",
     "output_type": "stream",
     "text": [
      "(22, 33)\n",
      "22\n",
      "33\n"
     ]
    }
   ],
   "source": [
    "func1(22, 33)"
   ]
  },
  {
   "cell_type": "code",
   "execution_count": 8,
   "id": "76f53d36",
   "metadata": {},
   "outputs": [
    {
     "name": "stdout",
     "output_type": "stream",
     "text": [
      "{'name': 'ram', 'age': 22, 'mark': 77.5}\n",
      "name ram\n",
      "age 22\n",
      "mark 77.5\n"
     ]
    }
   ],
   "source": [
    "#kwargs keywordeed arguments\n",
    "def func1(**kwargs):\n",
    "    print(kwargs)\n",
    "    for keys, values in kwargs.items():\n",
    "        print(f\"{keys} {values}\")\n",
    "\n",
    "func1(name = 'ram', age = 22, mark = 77.5)"
   ]
  },
  {
   "cell_type": "code",
   "execution_count": 9,
   "id": "2e3b5e3a",
   "metadata": {},
   "outputs": [
    {
     "name": "stdout",
     "output_type": "stream",
     "text": [
      "{'science_student': {'name': 'ram', 'age': 22}, 'arts_student': {'name': 'shyam', 'age': 25}, 'mgmt_student': {'name': 'hari', 'age': 27}}\n"
     ]
    }
   ],
   "source": [
    "student={\n",
    "#     'key':'values'\n",
    "    'science_student':{\n",
    "        'name':'ram',\n",
    "        'age':22\n",
    "    },\n",
    "    'arts_student':{\n",
    "        'name':'shyam',\n",
    "        'age':25\n",
    "    },\n",
    "    'mgmt_student':{\n",
    "        'name':'hari',\n",
    "        'age':27\n",
    "#         'age':28\n",
    "    }\n",
    "}\n",
    "print(student)"
   ]
  },
  {
   "cell_type": "code",
   "execution_count": 10,
   "id": "f914c1f9",
   "metadata": {},
   "outputs": [
    {
     "name": "stdout",
     "output_type": "stream",
     "text": [
      "{'name': 'ram', 'age': 22}\n"
     ]
    }
   ],
   "source": [
    "print(student['science_student'])"
   ]
  },
  {
   "cell_type": "code",
   "execution_count": 11,
   "id": "f5746075",
   "metadata": {},
   "outputs": [],
   "source": [
    "student['mgmt_student']['address']=['ktm','brt']"
   ]
  },
  {
   "cell_type": "code",
   "execution_count": 12,
   "id": "b06c4978",
   "metadata": {},
   "outputs": [
    {
     "data": {
      "text/plain": [
       "{'science_student': {'name': 'ram', 'age': 22},\n",
       " 'arts_student': {'name': 'shyam', 'age': 25},\n",
       " 'mgmt_student': {'name': 'hari', 'age': 27, 'address': ['ktm', 'brt']}}"
      ]
     },
     "execution_count": 12,
     "metadata": {},
     "output_type": "execute_result"
    }
   ],
   "source": [
    "student"
   ]
  },
  {
   "cell_type": "code",
   "execution_count": 13,
   "id": "08396a88",
   "metadata": {},
   "outputs": [
    {
     "name": "stdout",
     "output_type": "stream",
     "text": [
      "{0: 'Math', 1: 'science', 2: 'english'}\n"
     ]
    }
   ],
   "source": [
    "subject={\n",
    "    0: 'Math',\n",
    "    1: 'science',\n",
    "    2: 'english'\n",
    "}\n",
    "print(subject)"
   ]
  },
  {
   "cell_type": "code",
   "execution_count": 14,
   "id": "fe45cebc",
   "metadata": {},
   "outputs": [
    {
     "name": "stdout",
     "output_type": "stream",
     "text": [
      "dict_keys([0, 1, 2])\n"
     ]
    }
   ],
   "source": [
    "print(subject.keys())"
   ]
  },
  {
   "cell_type": "code",
   "execution_count": 15,
   "id": "533a20e6",
   "metadata": {},
   "outputs": [
    {
     "data": {
      "text/plain": [
       "['pkr', 'brt', 'dharan', 'janakpur', 'ram', 'shyam', 'hari', 'sita', 'nita']"
      ]
     },
     "execution_count": 15,
     "metadata": {},
     "output_type": "execute_result"
    }
   ],
   "source": [
    "list1 = ['pkr', 'brt', 'dharan', 'janakpur']\n",
    "list2 = ['ram','shyam','hari','sita','nita']\n",
    "list3 = list1 + list2\n",
    "list3"
   ]
  },
  {
   "cell_type": "code",
   "execution_count": 16,
   "id": "d4b29603",
   "metadata": {},
   "outputs": [
    {
     "name": "stdout",
     "output_type": "stream",
     "text": [
      "{'pkr': 'ram', 'brt': 'shyam', 'dharan': 'hari', 'janakpur': 'sita'}\n"
     ]
    }
   ],
   "source": [
    "a = zip(list1,list2)\n",
    "n_data = dict(a)\n",
    "print(n_data)"
   ]
  },
  {
   "cell_type": "code",
   "execution_count": 17,
   "id": "8ea5b0fb",
   "metadata": {},
   "outputs": [
    {
     "name": "stdout",
     "output_type": "stream",
     "text": [
      "{'pkr': 'ram', 'brt': 'shyam', 'dharan': 'hari', 'janakpur': 'sita'}\n"
     ]
    }
   ],
   "source": [
    "b = dict(zip(list1,list2))\n",
    "print(b)"
   ]
  },
  {
   "cell_type": "code",
   "execution_count": 19,
   "id": "5ceccd28",
   "metadata": {},
   "outputs": [
    {
     "name": "stdout",
     "output_type": "stream",
     "text": [
      "Enter the word to check: yam yam yam\n",
      "yam yam yam is not matched\n"
     ]
    }
   ],
   "source": [
    "# o_string = 'this is test content to check'\n",
    "o_string = 'ram shyam hari sita'\n",
    "\n",
    "u_check = input(\"Enter the word to check: \")\n",
    "# this test Test is \n",
    "# print(o_string)\n",
    "if u_check in o_string:\n",
    "    print(f\"{u_check} is matched\")\n",
    "else:\n",
    "    print(f\"{u_check} is not matched\")"
   ]
  },
  {
   "cell_type": "code",
   "execution_count": 20,
   "id": "2d246d32",
   "metadata": {},
   "outputs": [
    {
     "name": "stdout",
     "output_type": "stream",
     "text": [
      "Enter the word to check: yam\n",
      "yam is not matched\n"
     ]
    }
   ],
   "source": [
    "o_string = 'this is test content to check'\n",
    "# o_string = 'ram shyam hari sita'\n",
    "u_check = input(\"Enter the word to check: \")\n",
    "# this test Test is \n",
    "# print(o_string)\n",
    "if u_check in o_string:\n",
    "    print(f\"{u_check} is matched\")\n",
    "else:\n",
    "    print(f\"{u_check} is not matched\")"
   ]
  },
  {
   "cell_type": "code",
   "execution_count": 21,
   "id": "6c778267",
   "metadata": {},
   "outputs": [
    {
     "name": "stdout",
     "output_type": "stream",
     "text": [
      "t\n",
      "h\n",
      "i\n",
      "s\n",
      " \n",
      "i\n",
      "s\n",
      " \n",
      "t\n",
      "e\n",
      "s\n",
      "t\n",
      " \n",
      "c\n",
      "o\n",
      "n\n",
      "t\n",
      "e\n",
      "n\n",
      "t\n",
      " \n",
      "t\n",
      "o\n",
      " \n",
      "c\n",
      "h\n",
      "e\n",
      "c\n",
      "k\n"
     ]
    }
   ],
   "source": [
    "for i in o_string: #this is test contents to check\n",
    "    print(i)"
   ]
  },
  {
   "cell_type": "code",
   "execution_count": 22,
   "id": "d734fc53",
   "metadata": {},
   "outputs": [
    {
     "name": "stdout",
     "output_type": "stream",
     "text": [
      "<class 'str'>\n"
     ]
    }
   ],
   "source": [
    "o_string = 'this is test content to check'\n",
    "print(type(o_string))"
   ]
  },
  {
   "cell_type": "code",
   "execution_count": 23,
   "id": "9ea809a2",
   "metadata": {},
   "outputs": [
    {
     "name": "stdout",
     "output_type": "stream",
     "text": [
      "<class 'list'>\n"
     ]
    }
   ],
   "source": [
    "o_string = o_string.split()\n",
    "print(type(o_string))"
   ]
  },
  {
   "cell_type": "code",
   "execution_count": 24,
   "id": "f86c38ae",
   "metadata": {},
   "outputs": [
    {
     "name": "stdout",
     "output_type": "stream",
     "text": [
      "this\n",
      "is\n",
      "test\n",
      "content\n",
      "to\n",
      "check\n"
     ]
    }
   ],
   "source": [
    "for i in o_string:\n",
    "    print(i)"
   ]
  },
  {
   "cell_type": "code",
   "execution_count": 25,
   "id": "f3426af7",
   "metadata": {},
   "outputs": [
    {
     "name": "stdout",
     "output_type": "stream",
     "text": [
      "Enter the word to check: ram\n",
      "ram is not matched\n"
     ]
    }
   ],
   "source": [
    "o_string = 'this is test content to check'\n",
    "# o_string = 'ram shyam hari sita'\n",
    "u_check = input(\"Enter the word to check: \")\n",
    "# this test Test is \n",
    "# print(o_string)\n",
    "o_string = o_string.split()\n",
    "if u_check in o_string:\n",
    "    print(f\"{u_check} is matched\")\n",
    "else:\n",
    "    print(f\"{u_check} is not matched\")"
   ]
  },
  {
   "cell_type": "code",
   "execution_count": 26,
   "id": "ab5ffaf1",
   "metadata": {},
   "outputs": [
    {
     "name": "stdout",
     "output_type": "stream",
     "text": [
      "['ram,shyam,hari,sita']\n"
     ]
    }
   ],
   "source": [
    "name ='ram,shyam,hari,sita'\n",
    "name = name.split()\n",
    "print(name)"
   ]
  },
  {
   "cell_type": "code",
   "execution_count": 27,
   "id": "f19ed542",
   "metadata": {},
   "outputs": [
    {
     "name": "stdout",
     "output_type": "stream",
     "text": [
      "['ram', 'shyam', 'hari', 'sita']\n"
     ]
    }
   ],
   "source": [
    "name ='ram,shyam,hari,sita'\n",
    "name = name.split(',')\n",
    "print(name)"
   ]
  },
  {
   "cell_type": "code",
   "execution_count": null,
   "id": "91385b6a",
   "metadata": {},
   "outputs": [],
   "source": []
  }
 ],
 "metadata": {
  "kernelspec": {
   "display_name": "Python 3 (ipykernel)",
   "language": "python",
   "name": "python3"
  },
  "language_info": {
   "codemirror_mode": {
    "name": "ipython",
    "version": 3
   },
   "file_extension": ".py",
   "mimetype": "text/x-python",
   "name": "python",
   "nbconvert_exporter": "python",
   "pygments_lexer": "ipython3",
   "version": "3.10.9"
  }
 },
 "nbformat": 4,
 "nbformat_minor": 5
}
