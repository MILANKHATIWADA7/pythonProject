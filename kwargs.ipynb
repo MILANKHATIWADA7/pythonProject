{
 "cells": [
  {
   "cell_type": "code",
   "execution_count": 2,
   "id": "a27ebfd7",
   "metadata": {},
   "outputs": [
    {
     "name": "stdout",
     "output_type": "stream",
     "text": [
      "22 and 33\n"
     ]
    }
   ],
   "source": [
    "def func1(a,b):\n",
    "    print(f\"{a} and {b}\")\n",
    "    \n",
    "    \n",
    "func1(22,33)"
   ]
  },
  {
   "cell_type": "code",
   "execution_count": 3,
   "id": "67ffebcf",
   "metadata": {},
   "outputs": [
    {
     "ename": "TypeError",
     "evalue": "func1() missing 1 required positional argument: 'b'",
     "output_type": "error",
     "traceback": [
      "\u001b[1;31m---------------------------------------------------------------------------\u001b[0m",
      "\u001b[1;31mTypeError\u001b[0m                                 Traceback (most recent call last)",
      "Cell \u001b[1;32mIn[3], line 5\u001b[0m\n\u001b[0;32m      1\u001b[0m \u001b[38;5;28;01mdef\u001b[39;00m \u001b[38;5;21mfunc1\u001b[39m(a,b):\n\u001b[0;32m      2\u001b[0m     \u001b[38;5;28mprint\u001b[39m(\u001b[38;5;124mf\u001b[39m\u001b[38;5;124m\"\u001b[39m\u001b[38;5;132;01m{\u001b[39;00ma\u001b[38;5;132;01m}\u001b[39;00m\u001b[38;5;124m and \u001b[39m\u001b[38;5;132;01m{\u001b[39;00mb\u001b[38;5;132;01m}\u001b[39;00m\u001b[38;5;124m\"\u001b[39m)\n\u001b[1;32m----> 5\u001b[0m \u001b[43mfunc1\u001b[49m\u001b[43m(\u001b[49m\u001b[38;5;241;43m22\u001b[39;49m\u001b[43m)\u001b[49m\n",
      "\u001b[1;31mTypeError\u001b[0m: func1() missing 1 required positional argument: 'b'"
     ]
    }
   ],
   "source": [
    "def func1(a,b):\n",
    "    print(f\"{a} and {b}\")\n",
    "    \n",
    "    \n",
    "func1(22) #missing value error aauxa"
   ]
  },
  {
   "cell_type": "code",
   "execution_count": 4,
   "id": "2c5e5c2a",
   "metadata": {},
   "outputs": [
    {
     "name": "stdout",
     "output_type": "stream",
     "text": [
      "22 and 33 and 0\n"
     ]
    }
   ],
   "source": [
    "def func1(a,b,c=0): # ca ko value default halya\n",
    "    print(f\"{a} and {b} and {c}\")\n",
    "    \n",
    "    \n",
    "func1(22,33)"
   ]
  },
  {
   "cell_type": "code",
   "execution_count": 9,
   "id": "ee4e0b78",
   "metadata": {},
   "outputs": [
    {
     "name": "stdout",
     "output_type": "stream",
     "text": [
      "(22, 33)\n",
      "(22, 33, 44)\n",
      "(55, 66, 77)\n"
     ]
    }
   ],
   "source": [
    "def func1(*args): \n",
    "    print(args)\n",
    "    \n",
    "    \n",
    "func1(22,33)\n",
    "func1(22,33,44)\n",
    "func1(55,66,77)"
   ]
  },
  {
   "cell_type": "code",
   "execution_count": 11,
   "id": "287d6f2a",
   "metadata": {},
   "outputs": [
    {
     "name": "stdout",
     "output_type": "stream",
     "text": [
      "22 <class 'int'>\n",
      "33 <class 'int'>\n",
      "22 <class 'int'>\n",
      "33 <class 'int'>\n",
      "44 <class 'int'>\n",
      "55 <class 'int'>\n",
      "66 <class 'int'>\n",
      "77 <class 'int'>\n"
     ]
    }
   ],
   "source": [
    "def func1(*args): \n",
    "    for i in args:\n",
    "        print(i, type(i))\n",
    "    \n",
    "    \n",
    "func1(22,33)\n",
    "func1(22,33,44)\n",
    "func1(55,66,77)"
   ]
  },
  {
   "cell_type": "code",
   "execution_count": 16,
   "id": "ed193c9b",
   "metadata": {},
   "outputs": [
    {
     "name": "stdout",
     "output_type": "stream",
     "text": [
      "ram\n",
      "22\n",
      "kapan\n"
     ]
    }
   ],
   "source": [
    "def func1(**kwargs): \n",
    "    for i in kwargs:\n",
    "        print(i)\n",
    "    \n",
    "    \n",
    "func1(name = 'ram', age = 22, address = 'kapan')\n"
   ]
  },
  {
   "cell_type": "code",
   "execution_count": 18,
   "id": "d3a0b96f",
   "metadata": {},
   "outputs": [
    {
     "name": "stdout",
     "output_type": "stream",
     "text": [
      "ram\n",
      "22\n",
      "kapan\n"
     ]
    }
   ],
   "source": [
    "def func1(**kwargs): \n",
    "    for i in kwargs.values():\n",
    "        print(i)\n",
    "    \n",
    "    \n",
    "func1(name = 'ram', age = 22, address = 'kapan')\n"
   ]
  },
  {
   "cell_type": "code",
   "execution_count": 19,
   "id": "69e8f8bc",
   "metadata": {},
   "outputs": [
    {
     "name": "stdout",
     "output_type": "stream",
     "text": [
      "('name', 'ram')\n",
      "('age', 22)\n",
      "('address', 'kapan')\n"
     ]
    }
   ],
   "source": [
    "def func1(**kwargs): \n",
    "    for i in kwargs.items():\n",
    "        print(i)\n",
    "    \n",
    "    \n",
    "func1(name = 'ram', age = 22, address = 'kapan')"
   ]
  },
  {
   "cell_type": "code",
   "execution_count": 22,
   "id": "158f85f0",
   "metadata": {},
   "outputs": [
    {
     "name": "stdout",
     "output_type": "stream",
     "text": [
      "name= ram\n",
      "age= 22\n",
      "address= kapan\n"
     ]
    }
   ],
   "source": [
    "def func1(**kwargs): \n",
    "    for keys,values in kwargs.items():\n",
    "        print(f\"{keys} = {values}\")\n",
    "    \n",
    "    \n",
    "func1(name = 'ram', age = 22, address = 'kapan')"
   ]
  },
  {
   "cell_type": "code",
   "execution_count": 23,
   "id": "c45e80b0",
   "metadata": {},
   "outputs": [
    {
     "name": "stdout",
     "output_type": "stream",
     "text": [
      "('name', 'ram')\n",
      "('age', 22)\n",
      "('address', 'kapan')\n"
     ]
    }
   ],
   "source": [
    "def func1(**kwargs): \n",
    "    for i in kwargs.items():\n",
    "        \n",
    "        print(i)\n",
    "    \n",
    "    \n",
    "func1(name = 'ram', age = 22, address = 'kapan')"
   ]
  },
  {
   "cell_type": "code",
   "execution_count": null,
   "id": "1677bb6b",
   "metadata": {},
   "outputs": [],
   "source": []
  }
 ],
 "metadata": {
  "kernelspec": {
   "display_name": "Python 3 (ipykernel)",
   "language": "python",
   "name": "python3"
  },
  "language_info": {
   "codemirror_mode": {
    "name": "ipython",
    "version": 3
   },
   "file_extension": ".py",
   "mimetype": "text/x-python",
   "name": "python",
   "nbconvert_exporter": "python",
   "pygments_lexer": "ipython3",
   "version": "3.10.9"
  }
 },
 "nbformat": 4,
 "nbformat_minor": 5
}
