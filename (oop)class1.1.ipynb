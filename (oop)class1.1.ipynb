{
 "cells": [
  {
   "cell_type": "code",
   "execution_count": 15,
   "id": "28c52c0f",
   "metadata": {},
   "outputs": [],
   "source": [
    "class Students:\n",
    "    def stud1(self):\n",
    "        print(\"This is inside stud1\")\n",
    "        print(f\"{self.name} {self.age} {self.address}\")\n",
    "    def stud2(self, name, age, address):\n",
    "        print(f\"{name} {age} {address}\")\n",
    "    def emp3(self, name, age, position):\n",
    "        print(f\"{name, age, position}\")"
   ]
  },
  {
   "cell_type": "code",
   "execution_count": 16,
   "id": "61d21cf1",
   "metadata": {},
   "outputs": [
    {
     "name": "stdout",
     "output_type": "stream",
     "text": [
      "This is inside stud1\n",
      "milan 22 kapan\n"
     ]
    }
   ],
   "source": [
    "s1 = Students()\n",
    "s1.name = 'milan'\n",
    "s1.age = 22\n",
    "s1.address = 'kapan'\n",
    "s1.stud1()"
   ]
  },
  {
   "cell_type": "code",
   "execution_count": null,
   "id": "47b10ac3",
   "metadata": {},
   "outputs": [],
   "source": [
    "s2 = Students()\n",
    "for i in range(2):\n",
    "    name = input(\"Enter a name: \")\n",
    "    age = int(input(\"Enter your age: \"))\n",
    "    address = input(\"Enter ypour address: \")\n",
    "    s2.stud2(name ,age, address)"
   ]
  },
  {
   "cell_type": "code",
   "execution_count": 6,
   "id": "a756fd9d",
   "metadata": {},
   "outputs": [],
   "source": [
    "class Employee:\n",
    "    def emp1(self):\n",
    "        print(f\"{self.name} {self.age} {self.position}\")\n",
    "    def emp2(self):\n",
    "        print(f\"{self.name} {self.age} {self.position}\")\n",
    "    def emp3(self, name, age, position):\n",
    "        print(f\"{name} {age} {position}\")"
   ]
  },
  {
   "cell_type": "code",
   "execution_count": 7,
   "id": "66c1d5c4",
   "metadata": {},
   "outputs": [
    {
     "name": "stdout",
     "output_type": "stream",
     "text": [
      "mohan 40 manager\n"
     ]
    }
   ],
   "source": [
    "e1 = Employee()\n",
    "e1.name = 'mohan'\n",
    "e1.age = 40\n",
    "e1.position = 'manager'\n",
    "e1.emp1()"
   ]
  },
  {
   "cell_type": "code",
   "execution_count": 8,
   "id": "fa902491",
   "metadata": {},
   "outputs": [
    {
     "name": "stdout",
     "output_type": "stream",
     "text": [
      "khatiwada 22 CEO\n"
     ]
    }
   ],
   "source": [
    "e2 = Employee()\n",
    "e2.name = 'khatiwada'\n",
    "e2.age = 22\n",
    "e2.position = 'CEO'\n",
    "e2.emp2()"
   ]
  },
  {
   "cell_type": "code",
   "execution_count": 9,
   "id": "3daf8fe8",
   "metadata": {},
   "outputs": [
    {
     "name": "stdout",
     "output_type": "stream",
     "text": [
      "Enter a name: milan\n",
      "Enter a age: 22\n",
      "Enter the position: ceo\n",
      "milan 22 ceo\n",
      "Enter a name: avishek\n",
      "Enter a age: 22\n",
      "Enter the position: manager\n",
      "avishek 22 manager\n"
     ]
    }
   ],
   "source": [
    "e3 = Employee()\n",
    "for i in range(2):\n",
    "    name = input(\"Enter a name: \")\n",
    "    age = input(\"Enter a age: \")\n",
    "    position = input(\"Enter the position: \")\n",
    "    e3.emp3(name, age, position)"
   ]
  },
  {
   "cell_type": "code",
   "execution_count": null,
   "id": "b357d75e",
   "metadata": {},
   "outputs": [],
   "source": []
  }
 ],
 "metadata": {
  "kernelspec": {
   "display_name": "Python 3 (ipykernel)",
   "language": "python",
   "name": "python3"
  },
  "language_info": {
   "codemirror_mode": {
    "name": "ipython",
    "version": 3
   },
   "file_extension": ".py",
   "mimetype": "text/x-python",
   "name": "python",
   "nbconvert_exporter": "python",
   "pygments_lexer": "ipython3",
   "version": "3.10.9"
  }
 },
 "nbformat": 4,
 "nbformat_minor": 5
}
